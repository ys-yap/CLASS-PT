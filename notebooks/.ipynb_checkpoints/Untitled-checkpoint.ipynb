{
 "cells": [
  {
   "cell_type": "code",
   "execution_count": 2,
   "id": "66b10223-541e-4cb4-a82c-8122c108a431",
   "metadata": {},
   "outputs": [],
   "source": [
    "%matplotlib inline \n",
    "%config InlineBackend.figure_format = 'retina'\n",
    "\n",
    "from matplotlib import pyplot as plt\n",
    "import numpy as np\n",
    "from scipy import constants as c\n",
    "from scipy.signal import fftconvolve\n",
    "from scipy import integrate\n",
    "\n",
    "# import camb\n",
    "# from camb import model\n",
    "# from camb.sources import SplinedSourceWindow as ssw\n",
    "\n",
    "from classy import Class\n",
    "import os"
   ]
  },
  {
   "cell_type": "code",
   "execution_count": 10,
   "id": "c2bcf8d8-8d0b-45e2-bd86-7d41e32df2c3",
   "metadata": {},
   "outputs": [
    {
     "ename": "NameError",
     "evalue": "name 'camb' is not defined",
     "output_type": "error",
     "traceback": [
      "\u001b[0;31m---------------------------------------------------------------------------\u001b[0m",
      "\u001b[0;31mNameError\u001b[0m                                 Traceback (most recent call last)",
      "\u001b[0;32m/var/folders/30/3dv5v9456xlf7msf2z672sbm0000gp/T/ipykernel_29698/1593249955.py\u001b[0m in \u001b[0;36m<module>\u001b[0;34m\u001b[0m\n\u001b[0;32m----> 1\u001b[0;31m \u001b[0mfid_pars\u001b[0m \u001b[0;34m=\u001b[0m \u001b[0mcamb\u001b[0m\u001b[0;34m.\u001b[0m\u001b[0mread_ini\u001b[0m\u001b[0;34m(\u001b[0m\u001b[0;34m'/Users/rayson1/MGCAMB/inifiles/fisher.ini'\u001b[0m\u001b[0;34m)\u001b[0m \u001b[0;31m## planck 2018\u001b[0m\u001b[0;34m\u001b[0m\u001b[0;34m\u001b[0m\u001b[0m\n\u001b[0m",
      "\u001b[0;31mNameError\u001b[0m: name 'camb' is not defined"
     ]
    }
   ],
   "source": [
    "fid_pars = camb.read_ini('/Users/rayson1/MGCAMB/inifiles/fisher.ini') ## planck 2018"
   ]
  },
  {
   "cell_type": "code",
   "execution_count": 3,
   "id": "e52fdf96-2eb6-4394-9ad8-955ce8decb53",
   "metadata": {},
   "outputs": [],
   "source": [
    "fid_pars.NonLinear = 'NonLinear_none'\n",
    "fid_pars.set_matter_power(redshifts=[0], kmax=2.0)\n",
    "fid_res = camb.get_results(fid_pars)\n",
    "\n",
    "kh, z, pk = fid_res.get_matter_power_spectrum(minkh=9e-5, maxkh=1.1, npoints = 200)"
   ]
  },
  {
   "cell_type": "code",
   "execution_count": null,
   "id": "9518a225",
   "metadata": {},
   "outputs": [],
   "source": [
    "z_pk = 0.01\n",
    "Pklin = os.getcwd()+'/Pklin.dat'\n",
    "\n",
    "common_settings = {# fixed LambdaCDM parameters\n",
    "                   'A_s':2.100549e-9,\n",
    "                   'n_s':0.9660499,\n",
    "                   'tau_reio':0.05430842,\n",
    "                   'omega_b':0.0223828,\n",
    "                   'omega_cdm':0.1201075,\n",
    "                   'h':0.6732117,\n",
    "                   'YHe':0.2454006,\n",
    "                   'N_ur':2.0328,\n",
    "                   'N_ncdm':1,\n",
    "                   'm_ncdm':0.06,\n",
    "                   'z_pk':z_pk}  \n",
    "\n",
    "cosmo = Class()\n",
    "cosmo.set(common_settings)\n",
    "cosmo.set({'output':'mPk',\n",
    "           'non linear':'PT',\n",
    "           'IR resummation':'Yes',\n",
    "           'Bias tracers':'Yes',\n",
    "           'cb':'Yes',\n",
    "           'RSD':'No',\n",
    "           # 'AP':'No', \n",
    "           # 'Omfid':'0.31', \n",
    "           'PNG':'No',\n",
    "           'Input Pk':Pklin \n",
    "         })\n",
    "cosmo.compute()"
   ]
  },
  {
   "cell_type": "code",
   "execution_count": 7,
   "id": "43a0055d-56eb-4b38-936b-7525abef7bbf",
   "metadata": {},
   "outputs": [],
   "source": [
    "Pklin = os.getcwd()+'/Pklin.dat'\n",
    "data = np.loadtxt(Pklin)"
   ]
  },
  {
   "cell_type": "code",
   "execution_count": null,
   "id": "01fb1b03",
   "metadata": {},
   "outputs": [],
   "source": []
  },
  {
   "cell_type": "code",
   "execution_count": null,
   "id": "73bb6494-da37-4933-a860-e21f34d13851",
   "metadata": {},
   "outputs": [],
   "source": []
  }
 ],
 "metadata": {
  "kernelspec": {
   "display_name": "Python 3 (ipykernel)",
   "language": "python",
   "name": "python3"
  },
  "language_info": {
   "codemirror_mode": {
    "name": "ipython",
    "version": 3
   },
   "file_extension": ".py",
   "mimetype": "text/x-python",
   "name": "python",
   "nbconvert_exporter": "python",
   "pygments_lexer": "ipython3",
   "version": "3.9.21"
  }
 },
 "nbformat": 4,
 "nbformat_minor": 5
}
